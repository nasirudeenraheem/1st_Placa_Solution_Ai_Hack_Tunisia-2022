{
 "cells": [
  {
   "cell_type": "markdown",
   "id": "7212da73",
   "metadata": {},
   "source": [
    "## Executive Summary"
   ]
  },
  {
   "cell_type": "markdown",
   "id": "387fe623",
   "metadata": {},
   "source": [
    "The solution is basically a lightgbm regression model optimize with tweedie regression to handle the spike at 0 and the post prediction of the test is aggregated using sum of the prediction across the test set.\n",
    "\n",
    "Features used: train, test, dates, store id and holiday features.\n",
    "\n",
    "Train and test data are joined with dates and store id.\n",
    "\n",
    "Is_holiday feature is created using holiday feature.\n",
    "\n",
    "The number of transaction feature is dropped.\n",
    "\n",
    "The model is built using Ligthgbm with 5 Kfold cross validation and the prediction test set is aggregated across various the ID.\n",
    "\n",
    "np.log1p is taken to transform the prediction.\n",
    "\n",
    "**What work**\n",
    "\n",
    "1. Using tweedie regression objectives\n",
    "\n",
    "2. Post process the test set prediction using Sum\n",
    "\n",
    "**What did not work**\n",
    "\n",
    "1. Groupby aggregate features\n",
    "\n",
    "2. One hot encoding of the categoricla data.\n",
    "\n",
    "Author: **Nasirudeen Adeleye Raheem**"
   ]
  },
  {
   "cell_type": "code",
   "execution_count": 13,
   "id": "50fdd975",
   "metadata": {},
   "outputs": [
    {
     "name": "stdout",
     "output_type": "stream",
     "text": [
      "pandas_version 1.3.4\n",
      "scikit_learn_version 0.24.2\n",
      "lightgbm_version 3.3.2\n"
     ]
    }
   ],
   "source": [
    "print('pandas_version ' + pd.__version__)\n",
    "print('scikit_learn_version ' + sklearn.__version__)\n",
    "print('lightgbm_version ' +lgb.__version__)"
   ]
  },
  {
   "cell_type": "markdown",
   "id": "c50fead4",
   "metadata": {},
   "source": [
    "#### Importing the neccessary libariries"
   ]
  },
  {
   "cell_type": "code",
   "execution_count": 6,
   "id": "ad7896d7",
   "metadata": {},
   "outputs": [],
   "source": [
    "# libraries\n",
    "import pandas as pd\n",
    "import matplotlib.pyplot as plt\n",
    "%matplotlib inline\n",
    "import seaborn as sns\n",
    "import os\n",
    "import numpy as np\n",
    "import time\n",
    "import sklearn\n",
    "import lightgbm as lgb\n",
    "from sklearn.cluster import KMeans\n",
    "from sklearn.model_selection import GroupKFold\n",
    "from sklearn import metrics\n",
    "from sklearn.model_selection import GroupKFold, RepeatedKFold, KFold"
   ]
  },
  {
   "cell_type": "code",
   "execution_count": 14,
   "id": "ec4fd5a8",
   "metadata": {},
   "outputs": [],
   "source": [
    "## Machine learning model\n",
    "from lightgbm import LGBMRegressor"
   ]
  },
  {
   "cell_type": "code",
   "execution_count": 15,
   "id": "5be68b12",
   "metadata": {},
   "outputs": [],
   "source": [
    "train = pd.read_csv('train.csv')\n",
    "test = pd.read_csv('test.csv')\n",
    "store = pd.read_csv('stores.csv')\n",
    "holiday = pd.read_csv('holidays.csv')\n",
    "dates = pd.read_csv('dates.csv')\n",
    "sub = pd.read_csv('SampleSubmission.csv')"
   ]
  },
  {
   "cell_type": "code",
   "execution_count": 16,
   "id": "238cd1cc",
   "metadata": {},
   "outputs": [],
   "source": [
    "submission = pd.read_csv('SampleSubmission.csv')"
   ]
  },
  {
   "cell_type": "code",
   "execution_count": 17,
   "id": "84e480da",
   "metadata": {},
   "outputs": [
    {
     "name": "stdout",
     "output_type": "stream",
     "text": [
      "(2248884, 6)\n",
      "(99792, 4)\n",
      "(54, 4)\n",
      "(281, 2)\n",
      "(1320, 15)\n",
      "(14256, 2)\n"
     ]
    }
   ],
   "source": [
    "print(train.shape)\n",
    "print(test.shape)\n",
    "print(store.shape)\n",
    "print(holiday.shape)\n",
    "print(dates.shape)\n",
    "print(sub.shape)"
   ]
  },
  {
   "cell_type": "code",
   "execution_count": 18,
   "id": "bf96fc43",
   "metadata": {},
   "outputs": [
    {
     "data": {
      "text/html": [
       "<div>\n",
       "<style scoped>\n",
       "    .dataframe tbody tr th:only-of-type {\n",
       "        vertical-align: middle;\n",
       "    }\n",
       "\n",
       "    .dataframe tbody tr th {\n",
       "        vertical-align: top;\n",
       "    }\n",
       "\n",
       "    .dataframe thead th {\n",
       "        text-align: right;\n",
       "    }\n",
       "</style>\n",
       "<table border=\"1\" class=\"dataframe\">\n",
       "  <thead>\n",
       "    <tr style=\"text-align: right;\">\n",
       "      <th></th>\n",
       "      <th>date</th>\n",
       "      <th>store_id</th>\n",
       "      <th>category_id</th>\n",
       "      <th>target</th>\n",
       "      <th>onpromotion</th>\n",
       "      <th>nbr_of_transactions</th>\n",
       "    </tr>\n",
       "  </thead>\n",
       "  <tbody>\n",
       "    <tr>\n",
       "      <th>0</th>\n",
       "      <td>365</td>\n",
       "      <td>store_1</td>\n",
       "      <td>category_24</td>\n",
       "      <td>0.0</td>\n",
       "      <td>0</td>\n",
       "      <td>0.0</td>\n",
       "    </tr>\n",
       "    <tr>\n",
       "      <th>1</th>\n",
       "      <td>365</td>\n",
       "      <td>store_1</td>\n",
       "      <td>category_21</td>\n",
       "      <td>0.0</td>\n",
       "      <td>0</td>\n",
       "      <td>0.0</td>\n",
       "    </tr>\n",
       "    <tr>\n",
       "      <th>2</th>\n",
       "      <td>365</td>\n",
       "      <td>store_1</td>\n",
       "      <td>category_32</td>\n",
       "      <td>0.0</td>\n",
       "      <td>0</td>\n",
       "      <td>0.0</td>\n",
       "    </tr>\n",
       "    <tr>\n",
       "      <th>3</th>\n",
       "      <td>365</td>\n",
       "      <td>store_1</td>\n",
       "      <td>category_18</td>\n",
       "      <td>0.0</td>\n",
       "      <td>0</td>\n",
       "      <td>0.0</td>\n",
       "    </tr>\n",
       "    <tr>\n",
       "      <th>4</th>\n",
       "      <td>365</td>\n",
       "      <td>store_1</td>\n",
       "      <td>category_26</td>\n",
       "      <td>0.0</td>\n",
       "      <td>0</td>\n",
       "      <td>0.0</td>\n",
       "    </tr>\n",
       "  </tbody>\n",
       "</table>\n",
       "</div>"
      ],
      "text/plain": [
       "   date store_id  category_id  target  onpromotion  nbr_of_transactions\n",
       "0   365  store_1  category_24     0.0            0                  0.0\n",
       "1   365  store_1  category_21     0.0            0                  0.0\n",
       "2   365  store_1  category_32     0.0            0                  0.0\n",
       "3   365  store_1  category_18     0.0            0                  0.0\n",
       "4   365  store_1  category_26     0.0            0                  0.0"
      ]
     },
     "execution_count": 18,
     "metadata": {},
     "output_type": "execute_result"
    }
   ],
   "source": [
    "train.head()"
   ]
  },
  {
   "cell_type": "code",
   "execution_count": 19,
   "id": "a664048a",
   "metadata": {},
   "outputs": [
    {
     "data": {
      "text/html": [
       "<div>\n",
       "<style scoped>\n",
       "    .dataframe tbody tr th:only-of-type {\n",
       "        vertical-align: middle;\n",
       "    }\n",
       "\n",
       "    .dataframe tbody tr th {\n",
       "        vertical-align: top;\n",
       "    }\n",
       "\n",
       "    .dataframe thead th {\n",
       "        text-align: right;\n",
       "    }\n",
       "</style>\n",
       "<table border=\"1\" class=\"dataframe\">\n",
       "  <thead>\n",
       "    <tr style=\"text-align: right;\">\n",
       "      <th></th>\n",
       "      <th>date</th>\n",
       "      <th>store_id</th>\n",
       "      <th>category_id</th>\n",
       "      <th>onpromotion</th>\n",
       "    </tr>\n",
       "  </thead>\n",
       "  <tbody>\n",
       "    <tr>\n",
       "      <th>0</th>\n",
       "      <td>1627</td>\n",
       "      <td>store_1</td>\n",
       "      <td>category_24</td>\n",
       "      <td>0</td>\n",
       "    </tr>\n",
       "    <tr>\n",
       "      <th>1</th>\n",
       "      <td>1627</td>\n",
       "      <td>store_1</td>\n",
       "      <td>category_21</td>\n",
       "      <td>0</td>\n",
       "    </tr>\n",
       "    <tr>\n",
       "      <th>2</th>\n",
       "      <td>1627</td>\n",
       "      <td>store_1</td>\n",
       "      <td>category_32</td>\n",
       "      <td>0</td>\n",
       "    </tr>\n",
       "    <tr>\n",
       "      <th>3</th>\n",
       "      <td>1627</td>\n",
       "      <td>store_1</td>\n",
       "      <td>category_18</td>\n",
       "      <td>16</td>\n",
       "    </tr>\n",
       "    <tr>\n",
       "      <th>4</th>\n",
       "      <td>1627</td>\n",
       "      <td>store_1</td>\n",
       "      <td>category_26</td>\n",
       "      <td>0</td>\n",
       "    </tr>\n",
       "  </tbody>\n",
       "</table>\n",
       "</div>"
      ],
      "text/plain": [
       "   date store_id  category_id  onpromotion\n",
       "0  1627  store_1  category_24            0\n",
       "1  1627  store_1  category_21            0\n",
       "2  1627  store_1  category_32            0\n",
       "3  1627  store_1  category_18           16\n",
       "4  1627  store_1  category_26            0"
      ]
     },
     "execution_count": 19,
     "metadata": {},
     "output_type": "execute_result"
    }
   ],
   "source": [
    "test.head()"
   ]
  },
  {
   "cell_type": "code",
   "execution_count": 20,
   "id": "b209a08e",
   "metadata": {},
   "outputs": [
    {
     "data": {
      "text/html": [
       "<div>\n",
       "<style scoped>\n",
       "    .dataframe tbody tr th:only-of-type {\n",
       "        vertical-align: middle;\n",
       "    }\n",
       "\n",
       "    .dataframe tbody tr th {\n",
       "        vertical-align: top;\n",
       "    }\n",
       "\n",
       "    .dataframe thead th {\n",
       "        text-align: right;\n",
       "    }\n",
       "</style>\n",
       "<table border=\"1\" class=\"dataframe\">\n",
       "  <thead>\n",
       "    <tr style=\"text-align: right;\">\n",
       "      <th></th>\n",
       "      <th>date</th>\n",
       "      <th>store_id</th>\n",
       "      <th>category_id</th>\n",
       "      <th>onpromotion</th>\n",
       "    </tr>\n",
       "  </thead>\n",
       "  <tbody>\n",
       "    <tr>\n",
       "      <th>0</th>\n",
       "      <td>1627</td>\n",
       "      <td>store_1</td>\n",
       "      <td>category_24</td>\n",
       "      <td>0</td>\n",
       "    </tr>\n",
       "    <tr>\n",
       "      <th>1</th>\n",
       "      <td>1627</td>\n",
       "      <td>store_1</td>\n",
       "      <td>category_21</td>\n",
       "      <td>0</td>\n",
       "    </tr>\n",
       "    <tr>\n",
       "      <th>2</th>\n",
       "      <td>1627</td>\n",
       "      <td>store_1</td>\n",
       "      <td>category_32</td>\n",
       "      <td>0</td>\n",
       "    </tr>\n",
       "    <tr>\n",
       "      <th>3</th>\n",
       "      <td>1627</td>\n",
       "      <td>store_1</td>\n",
       "      <td>category_18</td>\n",
       "      <td>16</td>\n",
       "    </tr>\n",
       "    <tr>\n",
       "      <th>4</th>\n",
       "      <td>1627</td>\n",
       "      <td>store_1</td>\n",
       "      <td>category_26</td>\n",
       "      <td>0</td>\n",
       "    </tr>\n",
       "  </tbody>\n",
       "</table>\n",
       "</div>"
      ],
      "text/plain": [
       "   date store_id  category_id  onpromotion\n",
       "0  1627  store_1  category_24            0\n",
       "1  1627  store_1  category_21            0\n",
       "2  1627  store_1  category_32            0\n",
       "3  1627  store_1  category_18           16\n",
       "4  1627  store_1  category_26            0"
      ]
     },
     "execution_count": 20,
     "metadata": {},
     "output_type": "execute_result"
    }
   ],
   "source": [
    "test.head()"
   ]
  },
  {
   "cell_type": "code",
   "execution_count": 21,
   "id": "446b5834",
   "metadata": {},
   "outputs": [
    {
     "data": {
      "text/html": [
       "<div>\n",
       "<style scoped>\n",
       "    .dataframe tbody tr th:only-of-type {\n",
       "        vertical-align: middle;\n",
       "    }\n",
       "\n",
       "    .dataframe tbody tr th {\n",
       "        vertical-align: top;\n",
       "    }\n",
       "\n",
       "    .dataframe thead th {\n",
       "        text-align: right;\n",
       "    }\n",
       "</style>\n",
       "<table border=\"1\" class=\"dataframe\">\n",
       "  <thead>\n",
       "    <tr style=\"text-align: right;\">\n",
       "      <th></th>\n",
       "      <th>date</th>\n",
       "      <th>year</th>\n",
       "      <th>month</th>\n",
       "      <th>dayofmonth</th>\n",
       "      <th>dayofweek</th>\n",
       "      <th>dayofyear</th>\n",
       "      <th>weekofyear</th>\n",
       "      <th>quarter</th>\n",
       "      <th>is_month_start</th>\n",
       "      <th>is_month_end</th>\n",
       "      <th>is_quarter_start</th>\n",
       "      <th>is_quarter_end</th>\n",
       "      <th>is_year_start</th>\n",
       "      <th>is_year_end</th>\n",
       "      <th>year_weekofyear</th>\n",
       "    </tr>\n",
       "  </thead>\n",
       "  <tbody>\n",
       "    <tr>\n",
       "      <th>0</th>\n",
       "      <td>365</td>\n",
       "      <td>1</td>\n",
       "      <td>1</td>\n",
       "      <td>1</td>\n",
       "      <td>2</td>\n",
       "      <td>1</td>\n",
       "      <td>1</td>\n",
       "      <td>1</td>\n",
       "      <td>True</td>\n",
       "      <td>False</td>\n",
       "      <td>True</td>\n",
       "      <td>False</td>\n",
       "      <td>True</td>\n",
       "      <td>False</td>\n",
       "      <td>101</td>\n",
       "    </tr>\n",
       "    <tr>\n",
       "      <th>1</th>\n",
       "      <td>366</td>\n",
       "      <td>1</td>\n",
       "      <td>1</td>\n",
       "      <td>2</td>\n",
       "      <td>3</td>\n",
       "      <td>2</td>\n",
       "      <td>1</td>\n",
       "      <td>1</td>\n",
       "      <td>False</td>\n",
       "      <td>False</td>\n",
       "      <td>False</td>\n",
       "      <td>False</td>\n",
       "      <td>False</td>\n",
       "      <td>False</td>\n",
       "      <td>101</td>\n",
       "    </tr>\n",
       "    <tr>\n",
       "      <th>2</th>\n",
       "      <td>367</td>\n",
       "      <td>1</td>\n",
       "      <td>1</td>\n",
       "      <td>3</td>\n",
       "      <td>4</td>\n",
       "      <td>3</td>\n",
       "      <td>1</td>\n",
       "      <td>1</td>\n",
       "      <td>False</td>\n",
       "      <td>False</td>\n",
       "      <td>False</td>\n",
       "      <td>False</td>\n",
       "      <td>False</td>\n",
       "      <td>False</td>\n",
       "      <td>101</td>\n",
       "    </tr>\n",
       "    <tr>\n",
       "      <th>3</th>\n",
       "      <td>368</td>\n",
       "      <td>1</td>\n",
       "      <td>1</td>\n",
       "      <td>4</td>\n",
       "      <td>5</td>\n",
       "      <td>4</td>\n",
       "      <td>1</td>\n",
       "      <td>1</td>\n",
       "      <td>False</td>\n",
       "      <td>False</td>\n",
       "      <td>False</td>\n",
       "      <td>False</td>\n",
       "      <td>False</td>\n",
       "      <td>False</td>\n",
       "      <td>101</td>\n",
       "    </tr>\n",
       "    <tr>\n",
       "      <th>4</th>\n",
       "      <td>369</td>\n",
       "      <td>1</td>\n",
       "      <td>1</td>\n",
       "      <td>5</td>\n",
       "      <td>6</td>\n",
       "      <td>5</td>\n",
       "      <td>1</td>\n",
       "      <td>1</td>\n",
       "      <td>False</td>\n",
       "      <td>False</td>\n",
       "      <td>False</td>\n",
       "      <td>False</td>\n",
       "      <td>False</td>\n",
       "      <td>False</td>\n",
       "      <td>101</td>\n",
       "    </tr>\n",
       "  </tbody>\n",
       "</table>\n",
       "</div>"
      ],
      "text/plain": [
       "   date  year  month  dayofmonth  dayofweek  dayofyear  weekofyear  quarter  \\\n",
       "0   365     1      1           1          2          1           1        1   \n",
       "1   366     1      1           2          3          2           1        1   \n",
       "2   367     1      1           3          4          3           1        1   \n",
       "3   368     1      1           4          5          4           1        1   \n",
       "4   369     1      1           5          6          5           1        1   \n",
       "\n",
       "   is_month_start  is_month_end  is_quarter_start  is_quarter_end  \\\n",
       "0            True         False              True           False   \n",
       "1           False         False             False           False   \n",
       "2           False         False             False           False   \n",
       "3           False         False             False           False   \n",
       "4           False         False             False           False   \n",
       "\n",
       "   is_year_start  is_year_end  year_weekofyear  \n",
       "0           True        False              101  \n",
       "1          False        False              101  \n",
       "2          False        False              101  \n",
       "3          False        False              101  \n",
       "4          False        False              101  "
      ]
     },
     "execution_count": 21,
     "metadata": {},
     "output_type": "execute_result"
    }
   ],
   "source": [
    "dates.head()"
   ]
  },
  {
   "cell_type": "code",
   "execution_count": 22,
   "id": "5b07517b",
   "metadata": {},
   "outputs": [
    {
     "data": {
      "text/html": [
       "<div>\n",
       "<style scoped>\n",
       "    .dataframe tbody tr th:only-of-type {\n",
       "        vertical-align: middle;\n",
       "    }\n",
       "\n",
       "    .dataframe tbody tr th {\n",
       "        vertical-align: top;\n",
       "    }\n",
       "\n",
       "    .dataframe thead th {\n",
       "        text-align: right;\n",
       "    }\n",
       "</style>\n",
       "<table border=\"1\" class=\"dataframe\">\n",
       "  <thead>\n",
       "    <tr style=\"text-align: right;\">\n",
       "      <th></th>\n",
       "      <th>date</th>\n",
       "      <th>type</th>\n",
       "    </tr>\n",
       "  </thead>\n",
       "  <tbody>\n",
       "    <tr>\n",
       "      <th>0</th>\n",
       "      <td>1</td>\n",
       "      <td>0</td>\n",
       "    </tr>\n",
       "    <tr>\n",
       "      <th>1</th>\n",
       "      <td>5</td>\n",
       "      <td>4</td>\n",
       "    </tr>\n",
       "    <tr>\n",
       "      <th>2</th>\n",
       "      <td>12</td>\n",
       "      <td>4</td>\n",
       "    </tr>\n",
       "    <tr>\n",
       "      <th>3</th>\n",
       "      <td>42</td>\n",
       "      <td>0</td>\n",
       "    </tr>\n",
       "    <tr>\n",
       "      <th>4</th>\n",
       "      <td>43</td>\n",
       "      <td>0</td>\n",
       "    </tr>\n",
       "  </tbody>\n",
       "</table>\n",
       "</div>"
      ],
      "text/plain": [
       "   date  type\n",
       "0     1     0\n",
       "1     5     4\n",
       "2    12     4\n",
       "3    42     0\n",
       "4    43     0"
      ]
     },
     "execution_count": 22,
     "metadata": {},
     "output_type": "execute_result"
    }
   ],
   "source": [
    "holiday.head()"
   ]
  },
  {
   "cell_type": "code",
   "execution_count": 23,
   "id": "87556e50",
   "metadata": {},
   "outputs": [
    {
     "data": {
      "text/html": [
       "<div>\n",
       "<style scoped>\n",
       "    .dataframe tbody tr th:only-of-type {\n",
       "        vertical-align: middle;\n",
       "    }\n",
       "\n",
       "    .dataframe tbody tr th {\n",
       "        vertical-align: top;\n",
       "    }\n",
       "\n",
       "    .dataframe thead th {\n",
       "        text-align: right;\n",
       "    }\n",
       "</style>\n",
       "<table border=\"1\" class=\"dataframe\">\n",
       "  <thead>\n",
       "    <tr style=\"text-align: right;\">\n",
       "      <th></th>\n",
       "      <th>store_id</th>\n",
       "      <th>city</th>\n",
       "      <th>type</th>\n",
       "      <th>cluster</th>\n",
       "    </tr>\n",
       "  </thead>\n",
       "  <tbody>\n",
       "    <tr>\n",
       "      <th>0</th>\n",
       "      <td>store_1</td>\n",
       "      <td>0</td>\n",
       "      <td>0</td>\n",
       "      <td>0</td>\n",
       "    </tr>\n",
       "    <tr>\n",
       "      <th>1</th>\n",
       "      <td>store_2</td>\n",
       "      <td>0</td>\n",
       "      <td>0</td>\n",
       "      <td>0</td>\n",
       "    </tr>\n",
       "    <tr>\n",
       "      <th>2</th>\n",
       "      <td>store_3</td>\n",
       "      <td>0</td>\n",
       "      <td>0</td>\n",
       "      <td>1</td>\n",
       "    </tr>\n",
       "    <tr>\n",
       "      <th>3</th>\n",
       "      <td>store_4</td>\n",
       "      <td>0</td>\n",
       "      <td>0</td>\n",
       "      <td>2</td>\n",
       "    </tr>\n",
       "    <tr>\n",
       "      <th>4</th>\n",
       "      <td>store_5</td>\n",
       "      <td>1</td>\n",
       "      <td>0</td>\n",
       "      <td>3</td>\n",
       "    </tr>\n",
       "  </tbody>\n",
       "</table>\n",
       "</div>"
      ],
      "text/plain": [
       "  store_id  city  type  cluster\n",
       "0  store_1     0     0        0\n",
       "1  store_2     0     0        0\n",
       "2  store_3     0     0        1\n",
       "3  store_4     0     0        2\n",
       "4  store_5     1     0        3"
      ]
     },
     "execution_count": 23,
     "metadata": {},
     "output_type": "execute_result"
    }
   ],
   "source": [
    "store.head()"
   ]
  },
  {
   "cell_type": "code",
   "execution_count": 24,
   "id": "7f790327",
   "metadata": {},
   "outputs": [
    {
     "data": {
      "text/html": [
       "<div>\n",
       "<style scoped>\n",
       "    .dataframe tbody tr th:only-of-type {\n",
       "        vertical-align: middle;\n",
       "    }\n",
       "\n",
       "    .dataframe tbody tr th {\n",
       "        vertical-align: top;\n",
       "    }\n",
       "\n",
       "    .dataframe thead th {\n",
       "        text-align: right;\n",
       "    }\n",
       "</style>\n",
       "<table border=\"1\" class=\"dataframe\">\n",
       "  <thead>\n",
       "    <tr style=\"text-align: right;\">\n",
       "      <th></th>\n",
       "      <th>ID</th>\n",
       "      <th>target</th>\n",
       "    </tr>\n",
       "  </thead>\n",
       "  <tbody>\n",
       "    <tr>\n",
       "      <th>0</th>\n",
       "      <td>year_week_425_store_1_category_0</td>\n",
       "      <td>0</td>\n",
       "    </tr>\n",
       "    <tr>\n",
       "      <th>1</th>\n",
       "      <td>year_week_426_store_1_category_0</td>\n",
       "      <td>0</td>\n",
       "    </tr>\n",
       "    <tr>\n",
       "      <th>2</th>\n",
       "      <td>year_week_427_store_1_category_0</td>\n",
       "      <td>1</td>\n",
       "    </tr>\n",
       "    <tr>\n",
       "      <th>3</th>\n",
       "      <td>year_week_428_store_1_category_0</td>\n",
       "      <td>3</td>\n",
       "    </tr>\n",
       "    <tr>\n",
       "      <th>4</th>\n",
       "      <td>year_week_429_store_1_category_0</td>\n",
       "      <td>2</td>\n",
       "    </tr>\n",
       "  </tbody>\n",
       "</table>\n",
       "</div>"
      ],
      "text/plain": [
       "                                 ID  target\n",
       "0  year_week_425_store_1_category_0       0\n",
       "1  year_week_426_store_1_category_0       0\n",
       "2  year_week_427_store_1_category_0       1\n",
       "3  year_week_428_store_1_category_0       3\n",
       "4  year_week_429_store_1_category_0       2"
      ]
     },
     "execution_count": 24,
     "metadata": {},
     "output_type": "execute_result"
    }
   ],
   "source": [
    "sub.head()"
   ]
  },
  {
   "cell_type": "markdown",
   "id": "73bf3d2f",
   "metadata": {},
   "source": [
    "#### Target feature distribution"
   ]
  },
  {
   "cell_type": "code",
   "execution_count": 53,
   "id": "2a04a697",
   "metadata": {},
   "outputs": [
    {
     "data": {
      "image/png": "[encoded data removed]",
      "text/plain": [
       "<Figure size 1440x360 with 3 Axes>"
      ]
     },
     "metadata": {
      "needs_background": "light"
     },
     "output_type": "display_data"
    }
   ],
   "source": [
    "plt.figure(figsize = [20, 5]) \n",
    "\n",
    "plt.subplot(1, 3, 1) \n",
    "plt.hist(data = train, x = 'target');\n",
    "\n",
    "plt.title('raw target distribution')\n",
    "plt.subplot(1, 3, 2)\n",
    "np.log1p(train['target']).hist();\n",
    "\n",
    "plt.title('log target distribution')\n",
    "plt.subplot(1, 3, 3)\n",
    "np.sqrt(train['target']).hist();\n",
    "plt.title('sqrt target distribution');"
   ]
  },
  {
   "cell_type": "code",
   "execution_count": 40,
   "id": "8d8c64d7",
   "metadata": {},
   "outputs": [
    {
     "data": {
      "text/plain": [
       "count    2248884.000\n",
       "mean         393.265\n",
       "std         1174.938\n",
       "min            0.000\n",
       "25%            0.000\n",
       "50%           15.000\n",
       "75%          223.000\n",
       "max       124717.000\n",
       "Name: target, dtype: float64"
      ]
     },
     "execution_count": 40,
     "metadata": {},
     "output_type": "execute_result"
    }
   ],
   "source": [
    "train['target'].describe().round(3)"
   ]
  },
  {
   "cell_type": "code",
   "execution_count": 42,
   "id": "cedabd28",
   "metadata": {},
   "outputs": [
    {
     "name": "stdout",
     "output_type": "stream",
     "text": [
      "26.53854089406123\n"
     ]
    }
   ],
   "source": [
    "print(train[train['target'] == 0.0].shape[0]/len(train) * 100)"
   ]
  },
  {
   "cell_type": "markdown",
   "id": "718deec6",
   "metadata": {},
   "source": [
    "We observe 26.5% of the target values are 0.0."
   ]
  },
  {
   "cell_type": "markdown",
   "id": "51f3fedf",
   "metadata": {},
   "source": [
    "#### Dealing with test and sample submission file"
   ]
  },
  {
   "cell_type": "code",
   "execution_count": 25,
   "id": "7cc2aa5d",
   "metadata": {},
   "outputs": [],
   "source": [
    "## train merge dates\n",
    "train = train.merge(dates, on='date')"
   ]
  },
  {
   "cell_type": "code",
   "execution_count": 26,
   "id": "9f13c6b3",
   "metadata": {},
   "outputs": [],
   "source": [
    "## test merge date\n",
    "test = test.merge(dates, on='date')"
   ]
  },
  {
   "cell_type": "code",
   "execution_count": 21,
   "id": "e97df403",
   "metadata": {},
   "outputs": [],
   "source": [
    "train['yw'] = 'year_week'"
   ]
  },
  {
   "cell_type": "code",
   "execution_count": 22,
   "id": "6ab32ad4",
   "metadata": {},
   "outputs": [],
   "source": [
    "test['yw'] = 'year_week'"
   ]
  },
  {
   "cell_type": "code",
   "execution_count": 23,
   "id": "2c98aa8f",
   "metadata": {},
   "outputs": [],
   "source": [
    "train['ID'] = train['yw']+'_'+train['year_weekofyear'].astype(str)+'_'+train['store_id']+'_'+train['category_id']"
   ]
  },
  {
   "cell_type": "code",
   "execution_count": 24,
   "id": "b7fc7b46",
   "metadata": {},
   "outputs": [],
   "source": [
    "test['ID'] = test['yw']+'_'+test['year_weekofyear'].astype(str)+'_'+test['store_id']+'_'+test['category_id']"
   ]
  },
  {
   "cell_type": "markdown",
   "id": "d4b00a1c",
   "metadata": {},
   "source": [
    "### Feature engineering"
   ]
  },
  {
   "cell_type": "code",
   "execution_count": 27,
   "id": "c09874f1",
   "metadata": {},
   "outputs": [],
   "source": [
    "train['is_holiday'] = train['date'].isin(holiday['date'].unique())\n",
    "test['is_holiday'] = test['date'].isin(holiday['date'].unique())"
   ]
  },
  {
   "cell_type": "markdown",
   "id": "99daa22b",
   "metadata": {},
   "source": [
    "### Merging store data to the original dataset."
   ]
  },
  {
   "cell_type": "code",
   "execution_count": 28,
   "id": "f929fa8f",
   "metadata": {},
   "outputs": [],
   "source": [
    "train= train.merge(store, on=['store_id'])\n",
    "test= test.merge(store, on=['store_id'])"
   ]
  },
  {
   "cell_type": "markdown",
   "id": "43ad18b7",
   "metadata": {},
   "source": [
    "### Data Transformation"
   ]
  },
  {
   "cell_type": "code",
   "execution_count": 29,
   "id": "f05a34ba",
   "metadata": {},
   "outputs": [],
   "source": [
    "train['store_id'] = train['store_id'].map(lambda x:x.split('_')[1]).astype(int)\n",
    "train['category_id'] = train['category_id'].map(lambda x:x.split('_')[1]).astype(int)\n",
    "test['store_id'] = test['store_id'].map(lambda x:x.split('_')[1]).astype(int)\n",
    "test['category_id'] = test['category_id'].map(lambda x:x.split('_')[1]).astype(int)"
   ]
  },
  {
   "cell_type": "markdown",
   "id": "eb947fd7",
   "metadata": {},
   "source": [
    "### Machine Learning model"
   ]
  },
  {
   "cell_type": "code",
   "execution_count": 30,
   "id": "b5cc921e",
   "metadata": {},
   "outputs": [],
   "source": [
    "train_f = train.drop(['yw', 'ID','nbr_of_transactions'], axis=1) # training features\n",
    "test_f = test.drop(['yw', 'ID'], axis=1) # testing features"
   ]
  },
  {
   "cell_type": "code",
   "execution_count": 31,
   "id": "f2073882",
   "metadata": {},
   "outputs": [
    {
     "name": "stdout",
     "output_type": "stream",
     "text": [
      "(2248884, 23)\n",
      "(99792, 22)\n"
     ]
    }
   ],
   "source": [
    "print(train_f.shape)\n",
    "print(test_f.shape)"
   ]
  },
  {
   "cell_type": "code",
   "execution_count": 32,
   "id": "81fef274",
   "metadata": {},
   "outputs": [],
   "source": [
    "## The machine learning dependent and independent features\n",
    "X = train_f.drop('target', axis=1)\n",
    "y = train_f['target']"
   ]
  },
  {
   "cell_type": "code",
   "execution_count": 97,
   "id": "2e30acc7",
   "metadata": {},
   "outputs": [],
   "source": [
    "params = {\n",
    "        \"objective\" : \"tweedie\",\n",
    "    \n",
    "        \"metric\" : \"rmse\",\n",
    "        \"learning_rate\" : 0.09,\n",
    "         \"sub_feature\" : 0.8,\n",
    "        \"sub_row\" : 0.75,\n",
    "        \"bagging_freq\" : 1,\n",
    "        \"lambda_l2\" : 0.6,\n",
    "        'verbosity': 1,\n",
    "       'num_iterations' : 3000,        \n",
    "        'num_leaves': 128,\n",
    "        \"min_data_in_leaf\": 50,\n",
    "}\n"
   ]
  },
  {
   "cell_type": "code",
   "execution_count": 98,
   "id": "0cc162c8",
   "metadata": {},
   "outputs": [
    {
     "name": "stderr",
     "output_type": "stream",
     "text": [
      "C:\\Users\\THIS PC\\anaconda3\\lib\\site-packages\\lightgbm\\sklearn.py:726: UserWarning: 'early_stopping_rounds' argument is deprecated and will be removed in a future release of LightGBM. Pass 'early_stopping()' callback via 'callbacks' argument instead.\n",
      "  _log_warning(\"'early_stopping_rounds' argument is deprecated and will be removed in a future release of LightGBM. \"\n",
      "C:\\Users\\THIS PC\\anaconda3\\lib\\site-packages\\lightgbm\\sklearn.py:736: UserWarning: 'verbose' argument is deprecated and will be removed in a future release of LightGBM. Pass 'log_evaluation()' callback via 'callbacks' argument instead.\n",
      "  _log_warning(\"'verbose' argument is deprecated and will be removed in a future release of LightGBM. \"\n",
      "C:\\Users\\THIS PC\\anaconda3\\lib\\site-packages\\lightgbm\\engine.py:177: UserWarning: Found `num_iterations` in params. Will use it instead of argument\n",
      "  _log_warning(f\"Found `{alias}` in params. Will use it instead of argument\")\n"
     ]
    },
    {
     "name": "stdout",
     "output_type": "stream",
     "text": [
      "[LightGBM] [Warning] feature_fraction is set with colsample_bytree=1.0, will be overridden by sub_feature=0.8. Current value: feature_fraction=0.8\n",
      "[LightGBM] [Warning] bagging_fraction is set with subsample=1.0, will be overridden by sub_row=0.75. Current value: bagging_fraction=0.75\n",
      "[LightGBM] [Warning] min_data_in_leaf is set=50, min_child_samples=20 will be ignored. Current value: min_data_in_leaf=50\n",
      "[LightGBM] [Warning] lambda_l2 is set=0.6, reg_lambda=0.0 will be ignored. Current value: lambda_l2=0.6\n",
      "[LightGBM] [Warning] bagging_freq is set=1, subsample_freq=0 will be ignored. Current value: bagging_freq=1\n",
      "[LightGBM] [Warning] feature_fraction is set with colsample_bytree=1.0, will be overridden by sub_feature=0.8. Current value: feature_fraction=0.8\n",
      "[LightGBM] [Warning] bagging_fraction is set with subsample=1.0, will be overridden by sub_row=0.75. Current value: bagging_fraction=0.75\n",
      "[LightGBM] [Warning] min_data_in_leaf is set=50, min_child_samples=20 will be ignored. Current value: min_data_in_leaf=50\n",
      "[LightGBM] [Warning] lambda_l2 is set=0.6, reg_lambda=0.0 will be ignored. Current value: lambda_l2=0.6\n",
      "[LightGBM] [Warning] bagging_freq is set=1, subsample_freq=0 will be ignored. Current value: bagging_freq=1\n",
      "[LightGBM] [Warning] Auto-choosing row-wise multi-threading, the overhead of testing was 0.110456 seconds.\n",
      "You can set `force_row_wise=true` to remove the overhead.\n",
      "And if memory is not enough, you can set `force_col_wise=true`.\n",
      "[LightGBM] [Info] Total Bins 1159\n",
      "[LightGBM] [Info] Number of data points in the train set: 1799107, number of used features: 22\n",
      "[LightGBM] [Warning] feature_fraction is set with colsample_bytree=1.0, will be overridden by sub_feature=0.8. Current value: feature_fraction=0.8\n",
      "[LightGBM] [Warning] bagging_fraction is set with subsample=1.0, will be overridden by sub_row=0.75. Current value: bagging_fraction=0.75\n",
      "[LightGBM] [Warning] min_data_in_leaf is set=50, min_child_samples=20 will be ignored. Current value: min_data_in_leaf=50\n",
      "[LightGBM] [Warning] lambda_l2 is set=0.6, reg_lambda=0.0 will be ignored. Current value: lambda_l2=0.6\n",
      "[LightGBM] [Warning] bagging_freq is set=1, subsample_freq=0 will be ignored. Current value: bagging_freq=1\n",
      "[LightGBM] [Info] Start training from score 5.972788\n",
      "[100]\ttraining's rmse: 290.842\tvalid_1's rmse: 277.885\n",
      "[200]\ttraining's rmse: 248.577\tvalid_1's rmse: 235.954\n",
      "[300]\ttraining's rmse: 228.424\tvalid_1's rmse: 219.51\n",
      "[400]\ttraining's rmse: 215.112\tvalid_1's rmse: 210.207\n",
      "[500]\ttraining's rmse: 203.234\tvalid_1's rmse: 203.638\n",
      "[600]\ttraining's rmse: 195.116\tvalid_1's rmse: 199.7\n",
      "[700]\ttraining's rmse: 189.099\tvalid_1's rmse: 196.699\n",
      "[800]\ttraining's rmse: 182.088\tvalid_1's rmse: 194.479\n",
      "[900]\ttraining's rmse: 176.48\tvalid_1's rmse: 192.677\n",
      "[1000]\ttraining's rmse: 171.744\tvalid_1's rmse: 190.826\n",
      "[1100]\ttraining's rmse: 167.961\tvalid_1's rmse: 189.422\n",
      "[1200]\ttraining's rmse: 165.553\tvalid_1's rmse: 188.275\n",
      "[1300]\ttraining's rmse: 161.568\tvalid_1's rmse: 187.201\n",
      "[1400]\ttraining's rmse: 157.695\tvalid_1's rmse: 185.9\n",
      "[1500]\ttraining's rmse: 154.943\tvalid_1's rmse: 185.053\n",
      "[1600]\ttraining's rmse: 152.16\tvalid_1's rmse: 184.44\n",
      "[1700]\ttraining's rmse: 150.27\tvalid_1's rmse: 183.894\n",
      "[1800]\ttraining's rmse: 148.076\tvalid_1's rmse: 183.222\n",
      "[1900]\ttraining's rmse: 146.491\tvalid_1's rmse: 182.674\n",
      "[2000]\ttraining's rmse: 143.555\tvalid_1's rmse: 182.128\n",
      "[2100]\ttraining's rmse: 141.287\tvalid_1's rmse: 181.775\n",
      "[2200]\ttraining's rmse: 139.205\tvalid_1's rmse: 181.402\n",
      "[2300]\ttraining's rmse: 137.204\tvalid_1's rmse: 181.013\n",
      "[2400]\ttraining's rmse: 135.474\tvalid_1's rmse: 180.742\n",
      "[2500]\ttraining's rmse: 133.826\tvalid_1's rmse: 180.421\n",
      "[2600]\ttraining's rmse: 132.995\tvalid_1's rmse: 180.097\n",
      "[2700]\ttraining's rmse: 130.852\tvalid_1's rmse: 179.888\n",
      "[2800]\ttraining's rmse: 128.649\tvalid_1's rmse: 179.586\n",
      "[2900]\ttraining's rmse: 127.558\tvalid_1's rmse: 179.565\n",
      "[3000]\ttraining's rmse: 126.461\tvalid_1's rmse: 179.277\n",
      "err:  179.2771644212411\n"
     ]
    },
    {
     "name": "stderr",
     "output_type": "stream",
     "text": [
      "C:\\Users\\THIS PC\\anaconda3\\lib\\site-packages\\lightgbm\\sklearn.py:726: UserWarning: 'early_stopping_rounds' argument is deprecated and will be removed in a future release of LightGBM. Pass 'early_stopping()' callback via 'callbacks' argument instead.\n",
      "  _log_warning(\"'early_stopping_rounds' argument is deprecated and will be removed in a future release of LightGBM. \"\n",
      "C:\\Users\\THIS PC\\anaconda3\\lib\\site-packages\\lightgbm\\sklearn.py:736: UserWarning: 'verbose' argument is deprecated and will be removed in a future release of LightGBM. Pass 'log_evaluation()' callback via 'callbacks' argument instead.\n",
      "  _log_warning(\"'verbose' argument is deprecated and will be removed in a future release of LightGBM. \"\n",
      "C:\\Users\\THIS PC\\anaconda3\\lib\\site-packages\\lightgbm\\engine.py:177: UserWarning: Found `num_iterations` in params. Will use it instead of argument\n",
      "  _log_warning(f\"Found `{alias}` in params. Will use it instead of argument\")\n"
     ]
    },
    {
     "name": "stdout",
     "output_type": "stream",
     "text": [
      "[LightGBM] [Warning] feature_fraction is set with colsample_bytree=1.0, will be overridden by sub_feature=0.8. Current value: feature_fraction=0.8\n",
      "[LightGBM] [Warning] bagging_fraction is set with subsample=1.0, will be overridden by sub_row=0.75. Current value: bagging_fraction=0.75\n",
      "[LightGBM] [Warning] min_data_in_leaf is set=50, min_child_samples=20 will be ignored. Current value: min_data_in_leaf=50\n",
      "[LightGBM] [Warning] lambda_l2 is set=0.6, reg_lambda=0.0 will be ignored. Current value: lambda_l2=0.6\n",
      "[LightGBM] [Warning] bagging_freq is set=1, subsample_freq=0 will be ignored. Current value: bagging_freq=1\n",
      "[LightGBM] [Warning] feature_fraction is set with colsample_bytree=1.0, will be overridden by sub_feature=0.8. Current value: feature_fraction=0.8\n",
      "[LightGBM] [Warning] bagging_fraction is set with subsample=1.0, will be overridden by sub_row=0.75. Current value: bagging_fraction=0.75\n",
      "[LightGBM] [Warning] min_data_in_leaf is set=50, min_child_samples=20 will be ignored. Current value: min_data_in_leaf=50\n",
      "[LightGBM] [Warning] lambda_l2 is set=0.6, reg_lambda=0.0 will be ignored. Current value: lambda_l2=0.6\n",
      "[LightGBM] [Warning] bagging_freq is set=1, subsample_freq=0 will be ignored. Current value: bagging_freq=1\n",
      "[LightGBM] [Warning] Auto-choosing row-wise multi-threading, the overhead of testing was 0.128683 seconds.\n",
      "You can set `force_row_wise=true` to remove the overhead.\n",
      "And if memory is not enough, you can set `force_col_wise=true`.\n",
      "[LightGBM] [Info] Total Bins 1163\n",
      "[LightGBM] [Info] Number of data points in the train set: 1799107, number of used features: 22\n",
      "[LightGBM] [Warning] feature_fraction is set with colsample_bytree=1.0, will be overridden by sub_feature=0.8. Current value: feature_fraction=0.8\n",
      "[LightGBM] [Warning] bagging_fraction is set with subsample=1.0, will be overridden by sub_row=0.75. Current value: bagging_fraction=0.75\n",
      "[LightGBM] [Warning] min_data_in_leaf is set=50, min_child_samples=20 will be ignored. Current value: min_data_in_leaf=50\n",
      "[LightGBM] [Warning] lambda_l2 is set=0.6, reg_lambda=0.0 will be ignored. Current value: lambda_l2=0.6\n",
      "[LightGBM] [Warning] bagging_freq is set=1, subsample_freq=0 will be ignored. Current value: bagging_freq=1\n",
      "[LightGBM] [Info] Start training from score 5.974317\n",
      "[100]\ttraining's rmse: 279.462\tvalid_1's rmse: 327.069\n",
      "[200]\ttraining's rmse: 235.107\tvalid_1's rmse: 292.164\n",
      "[300]\ttraining's rmse: 216.79\tvalid_1's rmse: 279.468\n",
      "[400]\ttraining's rmse: 203.853\tvalid_1's rmse: 272.022\n",
      "[500]\ttraining's rmse: 193.866\tvalid_1's rmse: 266.361\n",
      "[600]\ttraining's rmse: 186.445\tvalid_1's rmse: 263.458\n",
      "[700]\ttraining's rmse: 179.267\tvalid_1's rmse: 261.029\n",
      "[800]\ttraining's rmse: 174.088\tvalid_1's rmse: 259.546\n",
      "[900]\ttraining's rmse: 168.544\tvalid_1's rmse: 257.588\n",
      "[1000]\ttraining's rmse: 164.585\tvalid_1's rmse: 256.578\n",
      "[1100]\ttraining's rmse: 159.929\tvalid_1's rmse: 255.528\n",
      "[1200]\ttraining's rmse: 156.986\tvalid_1's rmse: 254.748\n",
      "[1300]\ttraining's rmse: 153.063\tvalid_1's rmse: 253.61\n",
      "[1400]\ttraining's rmse: 150.325\tvalid_1's rmse: 253.06\n",
      "[1500]\ttraining's rmse: 147.217\tvalid_1's rmse: 252.312\n",
      "[1600]\ttraining's rmse: 144.718\tvalid_1's rmse: 251.67\n",
      "[1700]\ttraining's rmse: 142.569\tvalid_1's rmse: 251.395\n",
      "[1800]\ttraining's rmse: 139.464\tvalid_1's rmse: 250.93\n",
      "[1900]\ttraining's rmse: 137.577\tvalid_1's rmse: 250.711\n",
      "[2000]\ttraining's rmse: 135.756\tvalid_1's rmse: 250.214\n",
      "[2100]\ttraining's rmse: 133.257\tvalid_1's rmse: 250.113\n",
      "[2200]\ttraining's rmse: 132.167\tvalid_1's rmse: 249.85\n",
      "[2300]\ttraining's rmse: 130.196\tvalid_1's rmse: 249.345\n",
      "[2400]\ttraining's rmse: 128.877\tvalid_1's rmse: 249.123\n",
      "[2500]\ttraining's rmse: 126.213\tvalid_1's rmse: 248.964\n",
      "[2600]\ttraining's rmse: 125.248\tvalid_1's rmse: 248.662\n",
      "[2700]\ttraining's rmse: 123.807\tvalid_1's rmse: 248.499\n",
      "[2800]\ttraining's rmse: 122.591\tvalid_1's rmse: 248.297\n",
      "[2900]\ttraining's rmse: 121.717\tvalid_1's rmse: 248.177\n",
      "[3000]\ttraining's rmse: 120.191\tvalid_1's rmse: 247.882\n",
      "err:  247.88186733446906\n"
     ]
    },
    {
     "name": "stderr",
     "output_type": "stream",
     "text": [
      "C:\\Users\\THIS PC\\anaconda3\\lib\\site-packages\\lightgbm\\sklearn.py:726: UserWarning: 'early_stopping_rounds' argument is deprecated and will be removed in a future release of LightGBM. Pass 'early_stopping()' callback via 'callbacks' argument instead.\n",
      "  _log_warning(\"'early_stopping_rounds' argument is deprecated and will be removed in a future release of LightGBM. \"\n",
      "C:\\Users\\THIS PC\\anaconda3\\lib\\site-packages\\lightgbm\\sklearn.py:736: UserWarning: 'verbose' argument is deprecated and will be removed in a future release of LightGBM. Pass 'log_evaluation()' callback via 'callbacks' argument instead.\n",
      "  _log_warning(\"'verbose' argument is deprecated and will be removed in a future release of LightGBM. \"\n",
      "C:\\Users\\THIS PC\\anaconda3\\lib\\site-packages\\lightgbm\\engine.py:177: UserWarning: Found `num_iterations` in params. Will use it instead of argument\n",
      "  _log_warning(f\"Found `{alias}` in params. Will use it instead of argument\")\n"
     ]
    },
    {
     "name": "stdout",
     "output_type": "stream",
     "text": [
      "[LightGBM] [Warning] feature_fraction is set with colsample_bytree=1.0, will be overridden by sub_feature=0.8. Current value: feature_fraction=0.8\n",
      "[LightGBM] [Warning] bagging_fraction is set with subsample=1.0, will be overridden by sub_row=0.75. Current value: bagging_fraction=0.75\n",
      "[LightGBM] [Warning] min_data_in_leaf is set=50, min_child_samples=20 will be ignored. Current value: min_data_in_leaf=50\n",
      "[LightGBM] [Warning] lambda_l2 is set=0.6, reg_lambda=0.0 will be ignored. Current value: lambda_l2=0.6\n",
      "[LightGBM] [Warning] bagging_freq is set=1, subsample_freq=0 will be ignored. Current value: bagging_freq=1\n",
      "[LightGBM] [Warning] feature_fraction is set with colsample_bytree=1.0, will be overridden by sub_feature=0.8. Current value: feature_fraction=0.8\n",
      "[LightGBM] [Warning] bagging_fraction is set with subsample=1.0, will be overridden by sub_row=0.75. Current value: bagging_fraction=0.75\n",
      "[LightGBM] [Warning] min_data_in_leaf is set=50, min_child_samples=20 will be ignored. Current value: min_data_in_leaf=50\n",
      "[LightGBM] [Warning] lambda_l2 is set=0.6, reg_lambda=0.0 will be ignored. Current value: lambda_l2=0.6\n",
      "[LightGBM] [Warning] bagging_freq is set=1, subsample_freq=0 will be ignored. Current value: bagging_freq=1\n",
      "[LightGBM] [Warning] Auto-choosing row-wise multi-threading, the overhead of testing was 0.125964 seconds.\n",
      "You can set `force_row_wise=true` to remove the overhead.\n",
      "And if memory is not enough, you can set `force_col_wise=true`.\n",
      "[LightGBM] [Info] Total Bins 1163\n",
      "[LightGBM] [Info] Number of data points in the train set: 1799107, number of used features: 22\n",
      "[LightGBM] [Warning] feature_fraction is set with colsample_bytree=1.0, will be overridden by sub_feature=0.8. Current value: feature_fraction=0.8\n",
      "[LightGBM] [Warning] bagging_fraction is set with subsample=1.0, will be overridden by sub_row=0.75. Current value: bagging_fraction=0.75\n",
      "[LightGBM] [Warning] min_data_in_leaf is set=50, min_child_samples=20 will be ignored. Current value: min_data_in_leaf=50\n",
      "[LightGBM] [Warning] lambda_l2 is set=0.6, reg_lambda=0.0 will be ignored. Current value: lambda_l2=0.6\n",
      "[LightGBM] [Warning] bagging_freq is set=1, subsample_freq=0 will be ignored. Current value: bagging_freq=1\n",
      "[LightGBM] [Info] Start training from score 5.974511\n",
      "[100]\ttraining's rmse: 294.629\tvalid_1's rmse: 259.156\n",
      "[200]\ttraining's rmse: 251.172\tvalid_1's rmse: 215.733\n",
      "[300]\ttraining's rmse: 231.315\tvalid_1's rmse: 199.805\n",
      "[400]\ttraining's rmse: 218.005\tvalid_1's rmse: 190.25\n",
      "[500]\ttraining's rmse: 206.569\tvalid_1's rmse: 183.625\n",
      "[600]\ttraining's rmse: 198.041\tvalid_1's rmse: 179.324\n",
      "[700]\ttraining's rmse: 190.17\tvalid_1's rmse: 176.091\n",
      "[800]\ttraining's rmse: 184.269\tvalid_1's rmse: 173.451\n",
      "[900]\ttraining's rmse: 179.507\tvalid_1's rmse: 170.938\n",
      "[1000]\ttraining's rmse: 175.149\tvalid_1's rmse: 169.535\n",
      "[1100]\ttraining's rmse: 170.257\tvalid_1's rmse: 168.063\n",
      "[1200]\ttraining's rmse: 167.431\tvalid_1's rmse: 166.598\n",
      "[1300]\ttraining's rmse: 164.08\tvalid_1's rmse: 165.472\n",
      "[1400]\ttraining's rmse: 159.973\tvalid_1's rmse: 164.651\n",
      "[1500]\ttraining's rmse: 157.308\tvalid_1's rmse: 163.855\n",
      "[1600]\ttraining's rmse: 154.485\tvalid_1's rmse: 163.18\n",
      "[1700]\ttraining's rmse: 151.378\tvalid_1's rmse: 162.755\n",
      "[1800]\ttraining's rmse: 148.595\tvalid_1's rmse: 162.095\n",
      "[1900]\ttraining's rmse: 146.348\tvalid_1's rmse: 161.485\n",
      "[2000]\ttraining's rmse: 145.2\tvalid_1's rmse: 160.888\n",
      "[2100]\ttraining's rmse: 141.821\tvalid_1's rmse: 160.623\n",
      "[2200]\ttraining's rmse: 139.858\tvalid_1's rmse: 160.291\n",
      "[2300]\ttraining's rmse: 137.606\tvalid_1's rmse: 159.855\n",
      "[2400]\ttraining's rmse: 135.58\tvalid_1's rmse: 159.612\n",
      "[2500]\ttraining's rmse: 134.048\tvalid_1's rmse: 159.123\n",
      "[2600]\ttraining's rmse: 132.321\tvalid_1's rmse: 158.715\n",
      "[2700]\ttraining's rmse: 133.302\tvalid_1's rmse: 158.44\n",
      "[2800]\ttraining's rmse: 130.803\tvalid_1's rmse: 158.115\n",
      "[2900]\ttraining's rmse: 129.236\tvalid_1's rmse: 157.9\n",
      "[3000]\ttraining's rmse: 127.074\tvalid_1's rmse: 157.686\n",
      "err:  157.6856842765262\n"
     ]
    },
    {
     "name": "stderr",
     "output_type": "stream",
     "text": [
      "C:\\Users\\THIS PC\\anaconda3\\lib\\site-packages\\lightgbm\\sklearn.py:726: UserWarning: 'early_stopping_rounds' argument is deprecated and will be removed in a future release of LightGBM. Pass 'early_stopping()' callback via 'callbacks' argument instead.\n",
      "  _log_warning(\"'early_stopping_rounds' argument is deprecated and will be removed in a future release of LightGBM. \"\n",
      "C:\\Users\\THIS PC\\anaconda3\\lib\\site-packages\\lightgbm\\sklearn.py:736: UserWarning: 'verbose' argument is deprecated and will be removed in a future release of LightGBM. Pass 'log_evaluation()' callback via 'callbacks' argument instead.\n",
      "  _log_warning(\"'verbose' argument is deprecated and will be removed in a future release of LightGBM. \"\n",
      "C:\\Users\\THIS PC\\anaconda3\\lib\\site-packages\\lightgbm\\engine.py:177: UserWarning: Found `num_iterations` in params. Will use it instead of argument\n",
      "  _log_warning(f\"Found `{alias}` in params. Will use it instead of argument\")\n"
     ]
    },
    {
     "name": "stdout",
     "output_type": "stream",
     "text": [
      "[LightGBM] [Warning] feature_fraction is set with colsample_bytree=1.0, will be overridden by sub_feature=0.8. Current value: feature_fraction=0.8\n",
      "[LightGBM] [Warning] bagging_fraction is set with subsample=1.0, will be overridden by sub_row=0.75. Current value: bagging_fraction=0.75\n",
      "[LightGBM] [Warning] min_data_in_leaf is set=50, min_child_samples=20 will be ignored. Current value: min_data_in_leaf=50\n",
      "[LightGBM] [Warning] lambda_l2 is set=0.6, reg_lambda=0.0 will be ignored. Current value: lambda_l2=0.6\n",
      "[LightGBM] [Warning] bagging_freq is set=1, subsample_freq=0 will be ignored. Current value: bagging_freq=1\n",
      "[LightGBM] [Warning] feature_fraction is set with colsample_bytree=1.0, will be overridden by sub_feature=0.8. Current value: feature_fraction=0.8\n",
      "[LightGBM] [Warning] bagging_fraction is set with subsample=1.0, will be overridden by sub_row=0.75. Current value: bagging_fraction=0.75\n",
      "[LightGBM] [Warning] min_data_in_leaf is set=50, min_child_samples=20 will be ignored. Current value: min_data_in_leaf=50\n",
      "[LightGBM] [Warning] lambda_l2 is set=0.6, reg_lambda=0.0 will be ignored. Current value: lambda_l2=0.6\n",
      "[LightGBM] [Warning] bagging_freq is set=1, subsample_freq=0 will be ignored. Current value: bagging_freq=1\n",
      "[LightGBM] [Warning] Auto-choosing row-wise multi-threading, the overhead of testing was 0.125495 seconds.\n",
      "You can set `force_row_wise=true` to remove the overhead.\n",
      "And if memory is not enough, you can set `force_col_wise=true`.\n",
      "[LightGBM] [Info] Total Bins 1160\n",
      "[LightGBM] [Info] Number of data points in the train set: 1799107, number of used features: 22\n",
      "[LightGBM] [Warning] feature_fraction is set with colsample_bytree=1.0, will be overridden by sub_feature=0.8. Current value: feature_fraction=0.8\n",
      "[LightGBM] [Warning] bagging_fraction is set with subsample=1.0, will be overridden by sub_row=0.75. Current value: bagging_fraction=0.75\n",
      "[LightGBM] [Warning] min_data_in_leaf is set=50, min_child_samples=20 will be ignored. Current value: min_data_in_leaf=50\n",
      "[LightGBM] [Warning] lambda_l2 is set=0.6, reg_lambda=0.0 will be ignored. Current value: lambda_l2=0.6\n",
      "[LightGBM] [Warning] bagging_freq is set=1, subsample_freq=0 will be ignored. Current value: bagging_freq=1\n",
      "[LightGBM] [Info] Start training from score 5.975908\n",
      "[100]\ttraining's rmse: 280.426\tvalid_1's rmse: 327.041\n",
      "[200]\ttraining's rmse: 233.01\tvalid_1's rmse: 292.666\n",
      "[300]\ttraining's rmse: 214.265\tvalid_1's rmse: 281.673\n",
      "[400]\ttraining's rmse: 200.853\tvalid_1's rmse: 275.033\n",
      "[500]\ttraining's rmse: 192.54\tvalid_1's rmse: 270.99\n",
      "[600]\ttraining's rmse: 185.722\tvalid_1's rmse: 267.956\n",
      "[700]\ttraining's rmse: 180.192\tvalid_1's rmse: 265.832\n",
      "[800]\ttraining's rmse: 176.701\tvalid_1's rmse: 264.343\n",
      "[900]\ttraining's rmse: 170.39\tvalid_1's rmse: 262.808\n",
      "[1000]\ttraining's rmse: 166.652\tvalid_1's rmse: 261.603\n",
      "[1100]\ttraining's rmse: 162.391\tvalid_1's rmse: 260.565\n",
      "[1200]\ttraining's rmse: 158.735\tvalid_1's rmse: 259.675\n",
      "[1300]\ttraining's rmse: 156.439\tvalid_1's rmse: 259.014\n",
      "[1400]\ttraining's rmse: 152.855\tvalid_1's rmse: 258.555\n",
      "[1500]\ttraining's rmse: 149.5\tvalid_1's rmse: 257.935\n",
      "[1600]\ttraining's rmse: 147.423\tvalid_1's rmse: 257.475\n",
      "[1700]\ttraining's rmse: 145.231\tvalid_1's rmse: 257.129\n",
      "[1800]\ttraining's rmse: 143.188\tvalid_1's rmse: 256.739\n",
      "[1900]\ttraining's rmse: 140.573\tvalid_1's rmse: 256.294\n",
      "[2000]\ttraining's rmse: 139.897\tvalid_1's rmse: 256.007\n",
      "[2100]\ttraining's rmse: 138.66\tvalid_1's rmse: 255.692\n",
      "[2200]\ttraining's rmse: 137.148\tvalid_1's rmse: 255.536\n",
      "[2300]\ttraining's rmse: 135.767\tvalid_1's rmse: 255.366\n",
      "[2400]\ttraining's rmse: 134.242\tvalid_1's rmse: 255.155\n",
      "[2500]\ttraining's rmse: 131.795\tvalid_1's rmse: 255.006\n",
      "[2600]\ttraining's rmse: 130.552\tvalid_1's rmse: 254.83\n",
      "[2700]\ttraining's rmse: 128.241\tvalid_1's rmse: 254.564\n",
      "[2800]\ttraining's rmse: 126.351\tvalid_1's rmse: 254.181\n",
      "[2900]\ttraining's rmse: 125.178\tvalid_1's rmse: 253.993\n",
      "[3000]\ttraining's rmse: 124.17\tvalid_1's rmse: 253.866\n",
      "err:  253.86801291409483\n"
     ]
    },
    {
     "name": "stderr",
     "output_type": "stream",
     "text": [
      "C:\\Users\\THIS PC\\anaconda3\\lib\\site-packages\\lightgbm\\sklearn.py:726: UserWarning: 'early_stopping_rounds' argument is deprecated and will be removed in a future release of LightGBM. Pass 'early_stopping()' callback via 'callbacks' argument instead.\n",
      "  _log_warning(\"'early_stopping_rounds' argument is deprecated and will be removed in a future release of LightGBM. \"\n",
      "C:\\Users\\THIS PC\\anaconda3\\lib\\site-packages\\lightgbm\\sklearn.py:736: UserWarning: 'verbose' argument is deprecated and will be removed in a future release of LightGBM. Pass 'log_evaluation()' callback via 'callbacks' argument instead.\n",
      "  _log_warning(\"'verbose' argument is deprecated and will be removed in a future release of LightGBM. \"\n",
      "C:\\Users\\THIS PC\\anaconda3\\lib\\site-packages\\lightgbm\\engine.py:177: UserWarning: Found `num_iterations` in params. Will use it instead of argument\n",
      "  _log_warning(f\"Found `{alias}` in params. Will use it instead of argument\")\n"
     ]
    },
    {
     "name": "stdout",
     "output_type": "stream",
     "text": [
      "[LightGBM] [Warning] feature_fraction is set with colsample_bytree=1.0, will be overridden by sub_feature=0.8. Current value: feature_fraction=0.8\n",
      "[LightGBM] [Warning] bagging_fraction is set with subsample=1.0, will be overridden by sub_row=0.75. Current value: bagging_fraction=0.75\n",
      "[LightGBM] [Warning] min_data_in_leaf is set=50, min_child_samples=20 will be ignored. Current value: min_data_in_leaf=50\n",
      "[LightGBM] [Warning] lambda_l2 is set=0.6, reg_lambda=0.0 will be ignored. Current value: lambda_l2=0.6\n",
      "[LightGBM] [Warning] bagging_freq is set=1, subsample_freq=0 will be ignored. Current value: bagging_freq=1\n",
      "[LightGBM] [Warning] feature_fraction is set with colsample_bytree=1.0, will be overridden by sub_feature=0.8. Current value: feature_fraction=0.8\n",
      "[LightGBM] [Warning] bagging_fraction is set with subsample=1.0, will be overridden by sub_row=0.75. Current value: bagging_fraction=0.75\n",
      "[LightGBM] [Warning] min_data_in_leaf is set=50, min_child_samples=20 will be ignored. Current value: min_data_in_leaf=50\n",
      "[LightGBM] [Warning] lambda_l2 is set=0.6, reg_lambda=0.0 will be ignored. Current value: lambda_l2=0.6\n",
      "[LightGBM] [Warning] bagging_freq is set=1, subsample_freq=0 will be ignored. Current value: bagging_freq=1\n",
      "[LightGBM] [Warning] Auto-choosing row-wise multi-threading, the overhead of testing was 0.184536 seconds.\n",
      "You can set `force_row_wise=true` to remove the overhead.\n",
      "And if memory is not enough, you can set `force_col_wise=true`.\n",
      "[LightGBM] [Info] Total Bins 1157\n",
      "[LightGBM] [Info] Number of data points in the train set: 1799108, number of used features: 22\n",
      "[LightGBM] [Warning] feature_fraction is set with colsample_bytree=1.0, will be overridden by sub_feature=0.8. Current value: feature_fraction=0.8\n",
      "[LightGBM] [Warning] bagging_fraction is set with subsample=1.0, will be overridden by sub_row=0.75. Current value: bagging_fraction=0.75\n",
      "[LightGBM] [Warning] min_data_in_leaf is set=50, min_child_samples=20 will be ignored. Current value: min_data_in_leaf=50\n",
      "[LightGBM] [Warning] lambda_l2 is set=0.6, reg_lambda=0.0 will be ignored. Current value: lambda_l2=0.6\n",
      "[LightGBM] [Warning] bagging_freq is set=1, subsample_freq=0 will be ignored. Current value: bagging_freq=1\n",
      "[LightGBM] [Info] Start training from score 5.974890\n",
      "[100]\ttraining's rmse: 295.617\tvalid_1's rmse: 259.657\n",
      "[200]\ttraining's rmse: 252.721\tvalid_1's rmse: 216.992\n",
      "[300]\ttraining's rmse: 233.142\tvalid_1's rmse: 202.693\n",
      "[400]\ttraining's rmse: 217.846\tvalid_1's rmse: 192.91\n",
      "[500]\ttraining's rmse: 208.865\tvalid_1's rmse: 187.299\n",
      "[600]\ttraining's rmse: 201.198\tvalid_1's rmse: 183.241\n",
      "[700]\ttraining's rmse: 194.009\tvalid_1's rmse: 179.818\n",
      "[800]\ttraining's rmse: 186.948\tvalid_1's rmse: 177.304\n",
      "[900]\ttraining's rmse: 181.882\tvalid_1's rmse: 175.489\n",
      "[1000]\ttraining's rmse: 176.61\tvalid_1's rmse: 173.93\n",
      "[1100]\ttraining's rmse: 171.55\tvalid_1's rmse: 172.611\n",
      "[1200]\ttraining's rmse: 168.771\tvalid_1's rmse: 171.608\n",
      "[1300]\ttraining's rmse: 165.814\tvalid_1's rmse: 170.716\n",
      "[1400]\ttraining's rmse: 162.652\tvalid_1's rmse: 169.72\n",
      "[1500]\ttraining's rmse: 159.161\tvalid_1's rmse: 168.938\n",
      "[1600]\ttraining's rmse: 155.078\tvalid_1's rmse: 168.241\n",
      "[1700]\ttraining's rmse: 151.954\tvalid_1's rmse: 167.611\n",
      "[1800]\ttraining's rmse: 149.306\tvalid_1's rmse: 166.928\n",
      "[1900]\ttraining's rmse: 147.142\tvalid_1's rmse: 166.572\n",
      "[2000]\ttraining's rmse: 144.276\tvalid_1's rmse: 166.076\n",
      "[2100]\ttraining's rmse: 141.684\tvalid_1's rmse: 165.573\n",
      "[2200]\ttraining's rmse: 140.592\tvalid_1's rmse: 165.075\n",
      "[2300]\ttraining's rmse: 138.788\tvalid_1's rmse: 164.644\n",
      "[2400]\ttraining's rmse: 136.658\tvalid_1's rmse: 164.409\n",
      "[2500]\ttraining's rmse: 135.007\tvalid_1's rmse: 164.168\n",
      "[2600]\ttraining's rmse: 132.784\tvalid_1's rmse: 163.891\n",
      "[2700]\ttraining's rmse: 131.074\tvalid_1's rmse: 163.641\n",
      "[2800]\ttraining's rmse: 129.504\tvalid_1's rmse: 163.368\n",
      "[2900]\ttraining's rmse: 128.417\tvalid_1's rmse: 163.129\n",
      "[3000]\ttraining's rmse: 126.942\tvalid_1's rmse: 163.032\n",
      "err:  163.03241482136957\n"
     ]
    }
   ],
   "source": [
    "errcb=[]\n",
    "y_pred_totcb=[]\n",
    "fold= KFold(n_splits=5, shuffle=True, random_state=1)\n",
    "i=1\n",
    "for train_index, test_index in fold.split(X):\n",
    "    X_train, X_test = X.iloc[train_index], X.iloc[test_index]\n",
    "    y_train, y_test = y[train_index], y[test_index]\n",
    "    m = LGBMRegressor(**params)\n",
    "    m.fit(X_train,y_train,eval_set=[(X_train,y_train),(X_test, y_test)],verbose=100, early_stopping_rounds=100)\n",
    "    preds=m.predict(X_test)\n",
    "    print(\"err: \",metrics.mean_squared_error(y_test, preds, squared=False))\n",
    "    errcb.append(metrics.mean_squared_error(y_test, preds, squared=False))\n",
    "    p = m.predict(test_f)\n",
    "    y_pred_totcb.append(p)"
   ]
  },
  {
   "cell_type": "code",
   "execution_count": 99,
   "id": "d8add32c",
   "metadata": {},
   "outputs": [
    {
     "data": {
      "text/plain": [
       "5.283841823223315"
      ]
     },
     "execution_count": 99,
     "metadata": {},
     "output_type": "execute_result"
    }
   ],
   "source": [
    "np.mean(np.log1p(errcb))"
   ]
  },
  {
   "cell_type": "code",
   "execution_count": 100,
   "id": "13101db3",
   "metadata": {},
   "outputs": [
    {
     "data": {
      "image/png": "[encoded data removed]",
      "text/plain": [
       "<Figure size 1440x720 with 1 Axes>"
      ]
     },
     "metadata": {
      "needs_background": "light"
     },
     "output_type": "display_data"
    }
   ],
   "source": [
    "fea_imp = pd.DataFrame({'imp':m.feature_importances_, 'col': X.columns})\n",
    "fea_imp = fea_imp.sort_values(['imp', 'col'], ascending=False).iloc[-30:]\n",
    "_ = fea_imp.plot(kind='barh', x='col', y='imp', figsize=(20, 10))\n",
    "plt.savefig('catboost_feature_importance.png')    "
   ]
  },
  {
   "cell_type": "code",
   "execution_count": 101,
   "id": "209895c5",
   "metadata": {},
   "outputs": [
    {
     "data": {
      "text/plain": [
       "array([3.88790504e+00, 5.08526735e-03, 2.28684410e+00, ...,\n",
       "       1.86584321e+03, 3.42203336e+01, 1.96571928e+01])"
      ]
     },
     "execution_count": 101,
     "metadata": {},
     "output_type": "execute_result"
    }
   ],
   "source": [
    "np.mean(y_pred_totcb, 0)"
   ]
  },
  {
   "cell_type": "code",
   "execution_count": 102,
   "id": "0bf4ad1b",
   "metadata": {},
   "outputs": [
    {
     "data": {
      "text/plain": [
       "99792"
      ]
     },
     "execution_count": 102,
     "metadata": {},
     "output_type": "execute_result"
    }
   ],
   "source": [
    "len(np.mean(y_pred_totcb, 0))"
   ]
  },
  {
   "cell_type": "markdown",
   "id": "59a6d45d",
   "metadata": {},
   "source": [
    "### post preprocess the prediction for the test set"
   ]
  },
  {
   "cell_type": "code",
   "execution_count": 103,
   "id": "b5743b65",
   "metadata": {},
   "outputs": [],
   "source": [
    "test['target'] = np.mean(y_pred_totcb, 0)"
   ]
  },
  {
   "cell_type": "code",
   "execution_count": 104,
   "id": "535b082c",
   "metadata": {},
   "outputs": [],
   "source": [
    "sub = test[['ID', 'target']]"
   ]
  },
  {
   "cell_type": "code",
   "execution_count": 105,
   "id": "07e2f9bf",
   "metadata": {},
   "outputs": [
    {
     "data": {
      "text/html": [
       "<div>\n",
       "<style scoped>\n",
       "    .dataframe tbody tr th:only-of-type {\n",
       "        vertical-align: middle;\n",
       "    }\n",
       "\n",
       "    .dataframe tbody tr th {\n",
       "        vertical-align: top;\n",
       "    }\n",
       "\n",
       "    .dataframe thead th {\n",
       "        text-align: right;\n",
       "    }\n",
       "</style>\n",
       "<table border=\"1\" class=\"dataframe\">\n",
       "  <thead>\n",
       "    <tr style=\"text-align: right;\">\n",
       "      <th></th>\n",
       "      <th>ID</th>\n",
       "      <th>target</th>\n",
       "    </tr>\n",
       "  </thead>\n",
       "  <tbody>\n",
       "    <tr>\n",
       "      <th>0</th>\n",
       "      <td>year_week_425_store_1_category_24</td>\n",
       "      <td>3.887905</td>\n",
       "    </tr>\n",
       "    <tr>\n",
       "      <th>1</th>\n",
       "      <td>year_week_425_store_1_category_21</td>\n",
       "      <td>0.005085</td>\n",
       "    </tr>\n",
       "    <tr>\n",
       "      <th>2</th>\n",
       "      <td>year_week_425_store_1_category_32</td>\n",
       "      <td>2.286844</td>\n",
       "    </tr>\n",
       "    <tr>\n",
       "      <th>3</th>\n",
       "      <td>year_week_425_store_1_category_18</td>\n",
       "      <td>2273.203248</td>\n",
       "    </tr>\n",
       "    <tr>\n",
       "      <th>4</th>\n",
       "      <td>year_week_425_store_1_category_26</td>\n",
       "      <td>0.398729</td>\n",
       "    </tr>\n",
       "  </tbody>\n",
       "</table>\n",
       "</div>"
      ],
      "text/plain": [
       "                                  ID       target\n",
       "0  year_week_425_store_1_category_24     3.887905\n",
       "1  year_week_425_store_1_category_21     0.005085\n",
       "2  year_week_425_store_1_category_32     2.286844\n",
       "3  year_week_425_store_1_category_18  2273.203248\n",
       "4  year_week_425_store_1_category_26     0.398729"
      ]
     },
     "execution_count": 105,
     "metadata": {},
     "output_type": "execute_result"
    }
   ],
   "source": [
    "sub.head()"
   ]
  },
  {
   "cell_type": "markdown",
   "id": "dc667130",
   "metadata": {},
   "source": [
    "#### Aggregate the prediction across each ID by their total."
   ]
  },
  {
   "cell_type": "code",
   "execution_count": 106,
   "id": "9d54b6ba",
   "metadata": {},
   "outputs": [],
   "source": [
    "subt = sub.groupby('ID')['target'].sum().reset_index()"
   ]
  },
  {
   "cell_type": "code",
   "execution_count": 107,
   "id": "e3bbac7d",
   "metadata": {},
   "outputs": [],
   "source": [
    "prediction = submission.merge(subt, on='ID').rename(columns={'target_y':'target'}).drop('target_x', axis=1)"
   ]
  },
  {
   "cell_type": "markdown",
   "id": "40be447c",
   "metadata": {},
   "source": [
    "#### transforming the prediction"
   ]
  },
  {
   "cell_type": "code",
   "execution_count": 108,
   "id": "3baa2f6e",
   "metadata": {},
   "outputs": [],
   "source": [
    "prediction['target'] = np.log1p(abs(prediction['target']))"
   ]
  },
  {
   "cell_type": "code",
   "execution_count": 110,
   "id": "c10933b7",
   "metadata": {},
   "outputs": [],
   "source": [
    "prediction.to_csv('base_lb8.csv', index=False)"
   ]
  },
  {
   "cell_type": "markdown",
   "id": "1c9e2608",
   "metadata": {},
   "source": [
    "## References"
   ]
  },
  {
   "cell_type": "markdown",
   "id": "b1a29be5",
   "metadata": {},
   "source": [
    "1. https://www.youtube.com/playlist?list=PL98nY_tJQXZmT9ZB59T0lsx0ZzzLrYdX4\n",
    "\n",
    "2. https://www.kaggle.com/code/konradb/ts-4-sales-and-demand-forecasting/notebook"
   ]
  },
  {
   "cell_type": "markdown",
   "id": "ed1b622d",
   "metadata": {},
   "source": [
    "## Appreciation"
   ]
  },
  {
   "cell_type": "markdown",
   "id": "c7534c7b",
   "metadata": {},
   "source": [
    "My sincere appreciation to **Abhishek Thakur** & **KONRAD BANACHEWICZ**"
   ]
  },
  {
   "cell_type": "code",
   "execution_count": null,
   "id": "7da852dd",
   "metadata": {},
   "outputs": [],
   "source": []
  }
 ],
 "metadata": {
  "kernelspec": {
   "display_name": "Python 3 (ipykernel)",
   "language": "python",
   "name": "python3"
  },
  "language_info": {
   "codemirror_mode": {
    "name": "ipython",
    "version": 3
   },
   "file_extension": ".py",
   "mimetype": "text/x-python",
   "name": "python",
   "nbconvert_exporter": "python",
   "pygments_lexer": "ipython3",
   "version": "3.9.7"
  }
 },
 "nbformat": 4,
 "nbformat_minor": 5
}
